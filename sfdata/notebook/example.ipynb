{
 "cells": [
  {
   "cell_type": "code",
   "execution_count": null,
   "id": "5137bc11-0890-41ba-8621-d98211e98ebc",
   "metadata": {},
   "outputs": [],
   "source": [
    "cd ../.."
   ]
  },
  {
   "cell_type": "code",
   "execution_count": null,
   "id": "78e3f1ba-c915-4d59-986a-a6df96a0b624",
   "metadata": {},
   "outputs": [],
   "source": [
    "from sfdata import SFDataFiles\n",
    "from sfdata.notebook import SubSetter"
   ]
  },
  {
   "cell_type": "code",
   "execution_count": null,
   "id": "aac6c575-d184-425d-8ad4-de4b0e84df86",
   "metadata": {},
   "outputs": [],
   "source": [
    "sfd = SFDataFiles(\"test/fake_data/run_test.*.h5\")\n",
    "sfd.names"
   ]
  },
  {
   "cell_type": "code",
   "execution_count": null,
   "id": "da86a487-bb18-4a1c-8f61-d32fcb384fd4",
   "metadata": {},
   "outputs": [],
   "source": [
    "sel = SubSetter(sfd)\n",
    "sel"
   ]
  },
  {
   "cell_type": "code",
   "execution_count": null,
   "id": "ed660ae7-96d8-43d0-a4b9-6dd83f5cfccd",
   "metadata": {},
   "outputs": [],
   "source": [
    "sub = sel.get()\n",
    "sub.names"
   ]
  }
 ],
 "metadata": {
  "kernelspec": {
   "display_name": "Python 3 (ipykernel)",
   "language": "python",
   "name": "python3"
  },
  "language_info": {
   "codemirror_mode": {
    "name": "ipython",
    "version": 3
   },
   "file_extension": ".py",
   "mimetype": "text/x-python",
   "name": "python",
   "nbconvert_exporter": "python",
   "pygments_lexer": "ipython3",
   "version": "3.9.17"
  }
 },
 "nbformat": 4,
 "nbformat_minor": 5
}
